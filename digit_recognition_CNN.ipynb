{
  "cells": [
    {
      "cell_type": "code",
      "execution_count": 1,
      "metadata": {
        "id": "vdbF8H4vzaKT"
      },
      "outputs": [],
      "source": [
        "import numpy as np\n",
        "import pandas as pd\n",
        "\n",
        "import matplotlib.pyplot as plt\n",
        "import matplotlib.image as mpimg\n",
        "\n",
        "from keras.models import Sequential\n",
        "from keras.layers import Dense, Activation, Dropout, Flatten, Conv2D, MaxPool2D, BatchNormalization\n",
        "from keras.utils import to_categorical, plot_model\n",
        "from keras.preprocessing.image import ImageDataGenerator\n",
        "from keras.optimizers import RMSprop, Adam, Adadelta\n",
        "from keras.regularizers import l2\n",
        "from keras.callbacks import ReduceLROnPlateau\n",
        "from keras.datasets import mnist\n",
        "import tensorflow as tf\n",
        "\n",
        "from sklearn.model_selection import train_test_split\n",
        "from sklearn.metrics import confusion_matrix\n",
        "import itertools\n",
        "\n",
        "from PIL import Image\n"
      ]
    },
    {
      "cell_type": "code",
      "execution_count": 2,
      "metadata": {
        "colab": {
          "base_uri": "https://localhost:8080/"
        },
        "id": "B6O25RKWzaKZ",
        "outputId": "6efbd536-33a7-4313-ab24-d40fc0717d93"
      },
      "outputs": [
        {
          "output_type": "stream",
          "name": "stdout",
          "text": [
            "Downloading data from https://storage.googleapis.com/tensorflow/tf-keras-datasets/mnist.npz\n",
            "11490434/11490434 [==============================] - 0s 0us/step\n",
            "size of train datas: (X : (60000, 28, 28) , Y : (60000,) , \n",
            "size of test datas: (X : (10000, 28, 28) , Y : (10000,)\n"
          ]
        }
      ],
      "source": [
        "(X_train,Y_train),(X_test,Y_test) = mnist.load_data()\n",
        "print (f'size of train datas: (X : {X_train.shape} , Y : {Y_train.shape} , \\nsize of test datas: (X : {X_test.shape} , Y : {Y_test.shape}')"
      ]
    },
    {
      "cell_type": "code",
      "execution_count": 3,
      "metadata": {
        "id": "LDL934g8zaKa"
      },
      "outputs": [],
      "source": [
        "#one-hot encoding  labels:\n",
        "Y_train = to_categorical(Y_train,10)\n",
        "Y_test = to_categorical(Y_test,10)"
      ]
    },
    {
      "cell_type": "code",
      "execution_count": 4,
      "metadata": {
        "colab": {
          "base_uri": "https://localhost:8080/"
        },
        "id": "iTkEJd0jzaKb",
        "outputId": "ab641563-dc1e-407f-aa79-a728f7c85c77"
      },
      "outputs": [
        {
          "output_type": "stream",
          "name": "stdout",
          "text": [
            "train size: (60000, 28, 28, 1)\n",
            "test size:  (10000, 28, 28, 1)\n"
          ]
        }
      ],
      "source": [
        "#resize and normalizing datas :\n",
        "X_train = X_train.reshape(-1,28,28,1)\n",
        "X_train = X_train.astype('float32')/255\n",
        "\n",
        "X_test = X_test.reshape(-1,28,28,1)\n",
        "X_test = X_test.astype('float32')/255\n",
        "print(f\"train size: {X_train.shape}\\ntest size:  {X_test.shape}\")"
      ]
    },
    {
      "cell_type": "code",
      "execution_count": 5,
      "metadata": {
        "id": "vjCdkLxOzaKb"
      },
      "outputs": [],
      "source": [
        "# network parameters\n",
        "#number of labels\n",
        "num_labels = Y_train.shape[1]\n",
        "batch_size = 128\n",
        "# number of hidden units\n",
        "hidden_units = 256\n",
        "dropout = 0.45"
      ]
    },
    {
      "cell_type": "code",
      "execution_count": 32,
      "metadata": {
        "colab": {
          "base_uri": "https://localhost:8080/",
          "height": 430
        },
        "id": "-oH017A8zaKc",
        "outputId": "fb05f329-53ef-4746-b897-dc9ab6b410cc"
      },
      "outputs": [
        {
          "output_type": "display_data",
          "data": {
            "text/plain": [
              "<Figure size 640x480 with 1 Axes>"
            ],
            "image/png": "[encoded data removed]"
          },
          "metadata": {}
        }
      ],
      "source": [
        "g = plt.imshow(X_test[153][:,:,0])"
      ]
    },
    {
      "cell_type": "code",
      "execution_count": 7,
      "metadata": {
        "id": "9RkKf1FtzaKd"
      },
      "outputs": [],
      "source": [
        "model = Sequential()\n",
        "\n",
        "model.add(Conv2D(filters = 64, kernel_size = (3,3),padding = 'Same', activation ='relu', input_shape = (28,28,1),name = 'conv2D-1'))\n",
        "model.add(BatchNormalization(name = 'batchNorm-1'))\n",
        "\n",
        "model.add(Conv2D(filters = 64, kernel_size = (3,3),padding = 'Same', activation ='relu',name = 'conv2D-2'))\n",
        "model.add(BatchNormalization(name = 'batchNorm-2'))\n",
        "\n",
        "model.add(MaxPool2D(pool_size=(2,2),name = 'maxPool-1'))\n",
        "model.add(Dropout(dropout,name = 'dropOut-1'))\n",
        "\n",
        "model.add(Conv2D(filters = 64, kernel_size = (3,3),padding = 'Same', activation ='relu', name = 'conv2D-3'))\n",
        "model.add(BatchNormalization(name = 'batchNorm-3'))\n",
        "model.add(MaxPool2D(pool_size=(2,2), strides=(2,2),name = 'maxPool-2'))\n",
        "model.add(Dropout(dropout,name = 'dropOut-2'))\n",
        "\n",
        "model.add(Conv2D(filters = 64, kernel_size = (3,3), padding = 'Same',  activation ='relu', name = 'conv2D-4'))\n",
        "model.add(BatchNormalization(name = 'batchNorm-4'))\n",
        "model.add(Dropout(dropout,name = 'dropOut-3'))\n",
        "\n",
        "model.add(Flatten(name = 'toFlatten'))\n",
        "model.add(Dense(256, activation = \"relu\", name = 'Hidden-Layer-1'))\n",
        "model.add(BatchNormalization(name = 'batchNorm-5'))\n",
        "model.add(Dropout(dropout,name = 'dropOut-4'))\n",
        "model.add(Dense(256, activation = \"relu\", name = 'Hidden-Layer-2'))\n",
        "model.add(BatchNormalization(name = 'batchNorm-6'))\n",
        "model.add(Dropout(dropout, name = 'dropOut-5'))\n",
        "\n",
        "model.add(Dense(10, activation = \"softmax\", name = 'Output'))"
      ]
    },
    {
      "cell_type": "code",
      "execution_count": 8,
      "metadata": {
        "colab": {
          "base_uri": "https://localhost:8080/"
        },
        "id": "bdj-ymhJzaKd",
        "outputId": "7e6479a0-a782-4164-b59e-702e468a3944"
      },
      "outputs": [
        {
          "output_type": "stream",
          "name": "stdout",
          "text": [
            "Model: \"sequential\"\n",
            "_________________________________________________________________\n",
            " Layer (type)                Output Shape              Param #   \n",
            "=================================================================\n",
            " conv2D-1 (Conv2D)           (None, 28, 28, 64)        640       \n",
            "                                                                 \n",
            " batchNorm-1 (BatchNormaliz  (None, 28, 28, 64)        256       \n",
            " ation)                                                          \n",
            "                                                                 \n",
            " conv2D-2 (Conv2D)           (None, 28, 28, 64)        36928     \n",
            "                                                                 \n",
            " batchNorm-2 (BatchNormaliz  (None, 28, 28, 64)        256       \n",
            " ation)                                                          \n",
            "                                                                 \n",
            " maxPool-1 (MaxPooling2D)    (None, 14, 14, 64)        0         \n",
            "                                                                 \n",
            " dropOut-1 (Dropout)         (None, 14, 14, 64)        0         \n",
            "                                                                 \n",
            " conv2D-3 (Conv2D)           (None, 14, 14, 64)        36928     \n",
            "                                                                 \n",
            " batchNorm-3 (BatchNormaliz  (None, 14, 14, 64)        256       \n",
            " ation)                                                          \n",
            "                                                                 \n",
            " maxPool-2 (MaxPooling2D)    (None, 7, 7, 64)          0         \n",
            "                                                                 \n",
            " dropOut-2 (Dropout)         (None, 7, 7, 64)          0         \n",
            "                                                                 \n",
            " conv2D-4 (Conv2D)           (None, 7, 7, 64)          36928     \n",
            "                                                                 \n",
            " batchNorm-4 (BatchNormaliz  (None, 7, 7, 64)          256       \n",
            " ation)                                                          \n",
            "                                                                 \n",
            " dropOut-3 (Dropout)         (None, 7, 7, 64)          0         \n",
            "                                                                 \n",
            " toFlatten (Flatten)         (None, 3136)              0         \n",
            "                                                                 \n",
            " Hidden-Layer-1 (Dense)      (None, 256)               803072    \n",
            "                                                                 \n",
            " batchNorm-5 (BatchNormaliz  (None, 256)               1024      \n",
            " ation)                                                          \n",
            "                                                                 \n",
            " dropOut-4 (Dropout)         (None, 256)               0         \n",
            "                                                                 \n",
            " Hidden-Layer-2 (Dense)      (None, 256)               65792     \n",
            "                                                                 \n",
            " batchNorm-6 (BatchNormaliz  (None, 256)               1024      \n",
            " ation)                                                          \n",
            "                                                                 \n",
            " dropOut-5 (Dropout)         (None, 256)               0         \n",
            "                                                                 \n",
            " Output (Dense)              (None, 10)                2570      \n",
            "                                                                 \n",
            "=================================================================\n",
            "Total params: 985930 (3.76 MB)\n",
            "Trainable params: 984394 (3.76 MB)\n",
            "Non-trainable params: 1536 (6.00 KB)\n",
            "_________________________________________________________________\n"
          ]
        }
      ],
      "source": [
        "model.summary()"
      ]
    },
    {
      "cell_type": "code",
      "execution_count": 9,
      "metadata": {
        "id": "87pdPn0qzaKe"
      },
      "outputs": [],
      "source": [
        "optimizer = RMSprop(learning_rate=0.001, rho=0.9, epsilon=1e-08, weight_decay=0.0)"
      ]
    },
    {
      "cell_type": "code",
      "execution_count": 10,
      "metadata": {
        "id": "HwH1tLbDzaKe"
      },
      "outputs": [],
      "source": [
        "model.compile(optimizer = optimizer ,\n",
        "              loss = \"categorical_crossentropy\",\n",
        "              metrics=[\"accuracy\"])"
      ]
    },
    {
      "cell_type": "code",
      "execution_count": 11,
      "metadata": {
        "id": "3GxHnA8lzaKf"
      },
      "outputs": [],
      "source": [
        "reduce_LR = ReduceLROnPlateau(monitor='val_accuracy',\n",
        "                                            patience=3,\n",
        "                                            verbose=1,\n",
        "                                            factor=0.5,\n",
        "                                            min_lr=0.00001)"
      ]
    },
    {
      "cell_type": "code",
      "execution_count": 12,
      "metadata": {
        "colab": {
          "base_uri": "https://localhost:8080/"
        },
        "id": "UidU69M_zaKf",
        "outputId": "08c596a8-4ca4-4fe6-8f4f-ec0f5d239186"
      },
      "outputs": [
        {
          "output_type": "stream",
          "name": "stdout",
          "text": [
            "Epoch 1/21\n",
            "329/329 [==============================] - 29s 28ms/step - loss: 0.3971 - accuracy: 0.8767 - val_loss: 7.1896 - val_accuracy: 0.1162 - lr: 0.0010\n",
            "Epoch 2/21\n",
            "329/329 [==============================] - 7s 23ms/step - loss: 0.1042 - accuracy: 0.9685 - val_loss: 0.0954 - val_accuracy: 0.9717 - lr: 0.0010\n",
            "Epoch 3/21\n",
            "329/329 [==============================] - 8s 25ms/step - loss: 0.0792 - accuracy: 0.9756 - val_loss: 0.0444 - val_accuracy: 0.9877 - lr: 0.0010\n",
            "Epoch 4/21\n",
            "329/329 [==============================] - 8s 23ms/step - loss: 0.0656 - accuracy: 0.9801 - val_loss: 0.0450 - val_accuracy: 0.9876 - lr: 0.0010\n",
            "Epoch 5/21\n",
            "329/329 [==============================] - 8s 23ms/step - loss: 0.0562 - accuracy: 0.9823 - val_loss: 0.0426 - val_accuracy: 0.9880 - lr: 0.0010\n",
            "Epoch 6/21\n",
            "329/329 [==============================] - 8s 23ms/step - loss: 0.0516 - accuracy: 0.9847 - val_loss: 0.0399 - val_accuracy: 0.9886 - lr: 0.0010\n",
            "Epoch 7/21\n",
            "329/329 [==============================] - 8s 23ms/step - loss: 0.0453 - accuracy: 0.9864 - val_loss: 0.0506 - val_accuracy: 0.9868 - lr: 0.0010\n",
            "Epoch 8/21\n",
            "329/329 [==============================] - 8s 24ms/step - loss: 0.0438 - accuracy: 0.9868 - val_loss: 0.0393 - val_accuracy: 0.9899 - lr: 0.0010\n",
            "Epoch 9/21\n",
            "329/329 [==============================] - 8s 25ms/step - loss: 0.0430 - accuracy: 0.9875 - val_loss: 0.0322 - val_accuracy: 0.9909 - lr: 0.0010\n",
            "Epoch 10/21\n",
            "329/329 [==============================] - 8s 24ms/step - loss: 0.0392 - accuracy: 0.9881 - val_loss: 0.0318 - val_accuracy: 0.9918 - lr: 0.0010\n",
            "Epoch 11/21\n",
            "329/329 [==============================] - 8s 23ms/step - loss: 0.0393 - accuracy: 0.9883 - val_loss: 0.0297 - val_accuracy: 0.9918 - lr: 0.0010\n",
            "Epoch 12/21\n",
            "329/329 [==============================] - 8s 24ms/step - loss: 0.0334 - accuracy: 0.9896 - val_loss: 0.0318 - val_accuracy: 0.9913 - lr: 0.0010\n",
            "Epoch 13/21\n",
            "328/329 [============================>.] - ETA: 0s - loss: 0.0354 - accuracy: 0.9889\n",
            "Epoch 13: ReduceLROnPlateau reducing learning rate to 0.0005000000237487257.\n",
            "329/329 [==============================] - 8s 25ms/step - loss: 0.0353 - accuracy: 0.9889 - val_loss: 0.0362 - val_accuracy: 0.9913 - lr: 0.0010\n",
            "Epoch 14/21\n",
            "329/329 [==============================] - 8s 23ms/step - loss: 0.0271 - accuracy: 0.9917 - val_loss: 0.0302 - val_accuracy: 0.9928 - lr: 5.0000e-04\n",
            "Epoch 15/21\n",
            "329/329 [==============================] - 8s 24ms/step - loss: 0.0267 - accuracy: 0.9913 - val_loss: 0.0280 - val_accuracy: 0.9932 - lr: 5.0000e-04\n",
            "Epoch 16/21\n",
            "329/329 [==============================] - 8s 25ms/step - loss: 0.0256 - accuracy: 0.9923 - val_loss: 0.0264 - val_accuracy: 0.9934 - lr: 5.0000e-04\n",
            "Epoch 17/21\n",
            "329/329 [==============================] - 8s 23ms/step - loss: 0.0258 - accuracy: 0.9924 - val_loss: 0.0321 - val_accuracy: 0.9916 - lr: 5.0000e-04\n",
            "Epoch 18/21\n",
            "329/329 [==============================] - 7s 23ms/step - loss: 0.0232 - accuracy: 0.9929 - val_loss: 0.0295 - val_accuracy: 0.9928 - lr: 5.0000e-04\n",
            "Epoch 19/21\n",
            "328/329 [============================>.] - ETA: 0s - loss: 0.0237 - accuracy: 0.9924\n",
            "Epoch 19: ReduceLROnPlateau reducing learning rate to 0.0002500000118743628.\n",
            "329/329 [==============================] - 9s 27ms/step - loss: 0.0237 - accuracy: 0.9924 - val_loss: 0.0255 - val_accuracy: 0.9933 - lr: 5.0000e-04\n",
            "Epoch 20/21\n",
            "329/329 [==============================] - 10s 30ms/step - loss: 0.0212 - accuracy: 0.9935 - val_loss: 0.0259 - val_accuracy: 0.9939 - lr: 2.5000e-04\n",
            "Epoch 21/21\n",
            "329/329 [==============================] - 8s 24ms/step - loss: 0.0180 - accuracy: 0.9941 - val_loss: 0.0243 - val_accuracy: 0.9942 - lr: 2.5000e-04\n"
          ]
        }
      ],
      "source": [
        "history = model.fit(X_train, Y_train, epochs = 21, validation_split= 0.3, callbacks=[reduce_LR], batch_size = batch_size )"
      ]
    },
    {
      "cell_type": "code",
      "execution_count": 13,
      "metadata": {
        "colab": {
          "base_uri": "https://localhost:8080/"
        },
        "id": "34dcs33lzaKf",
        "outputId": "4690bf16-ace8-4d25-8923-f12e10b392b3"
      },
      "outputs": [
        {
          "output_type": "stream",
          "name": "stdout",
          "text": [
            "79/79 [==============================] - 1s 6ms/step - loss: 0.0154 - accuracy: 0.9949\n",
            "test accuracy = % 99.49 \n",
            "test loss: % 1.54\n"
          ]
        }
      ],
      "source": [
        "loss , acc = model.evaluate(X_test, Y_test, batch_size = batch_size)\n",
        "print(f'test accuracy = % {100 * acc :.2f} \\ntest loss: % {100 * loss :.2f}')"
      ]
    },
    {
      "cell_type": "code",
      "execution_count": 33,
      "metadata": {
        "colab": {
          "base_uri": "https://localhost:8080/",
          "height": 558
        },
        "id": "X_ep_10TzaKg",
        "outputId": "7e8187bf-55b6-4826-d6b9-90166e7ecffe"
      },
      "outputs": [
        {
          "output_type": "stream",
          "name": "stderr",
          "text": [
            "<ipython-input-33-a9917444bccd>:2: DeprecationWarning: ANTIALIAS is deprecated and will be removed in Pillow 10 (2023-07-01). Use LANCZOS or Resampling.LANCZOS instead.\n",
            "  imgArray = np.array(testImg.resize((28, 28), Image.ANTIALIAS))\n"
          ]
        },
        {
          "output_type": "execute_result",
          "data": {
            "text/plain": [
              "<PIL.Image.Image image mode=L size=480x486>"
            ],
            "image/png": "[encoded data removed]"
          },
          "metadata": {},
          "execution_count": 33
        }
      ],
      "source": [
        "testImg = Image.open(\"05.png\").convert('L')\n",
        "imgArray = np.array(testImg.resize((28, 28), Image.ANTIALIAS))\n",
        "\n",
        "imgArray = imgArray.reshape((-1,28,28,1))\n",
        "testImg"
      ]
    },
    {
      "cell_type": "code",
      "execution_count": 34,
      "metadata": {
        "colab": {
          "base_uri": "https://localhost:8080/"
        },
        "id": "kmUZ4KnBzaKg",
        "outputId": "cda36243-7519-4f7a-c793-6521c20ba995"
      },
      "outputs": [
        {
          "output_type": "stream",
          "name": "stdout",
          "text": [
            "1/1 [==============================] - 0s 97ms/step\n",
            "The Predicted Number is : 5\n"
          ]
        }
      ],
      "source": [
        "myNumber5=model.predict(imgArray)\n",
        "print(f'The Predicted Number is : {myNumber5.argmax()}')"
      ]
    },
    {
      "cell_type": "code",
      "source": [
        "testImg2 = Image.open(\"07.png\").convert('L')\n",
        "imgArray = np.array(testImg2.resize((28, 28), Image.ANTIALIAS))\n",
        "\n",
        "imgArray = imgArray.reshape((-1,28,28,1))\n",
        "testImg2"
      ],
      "metadata": {
        "colab": {
          "base_uri": "https://localhost:8080/",
          "height": 156
        },
        "id": "kypJv1Fv4Xtn",
        "outputId": "4c621464-e8f6-4d56-dafb-f7344292640f"
      },
      "execution_count": 36,
      "outputs": [
        {
          "output_type": "stream",
          "name": "stderr",
          "text": [
            "<ipython-input-36-83e302686664>:2: DeprecationWarning: ANTIALIAS is deprecated and will be removed in Pillow 10 (2023-07-01). Use LANCZOS or Resampling.LANCZOS instead.\n",
            "  imgArray = np.array(testImg2.resize((28, 28), Image.ANTIALIAS))\n"
          ]
        },
        {
          "output_type": "execute_result",
          "data": {
            "text/plain": [
              "<PIL.Image.Image image mode=L size=91x84>"
            ],
            "image/png": "[encoded data removed]"
          },
          "metadata": {},
          "execution_count": 36
        }
      ]
    },
    {
      "cell_type": "code",
      "source": [
        "myNumber7=model.predict(imgArray)\n",
        "print(f'The Predicted Number is : {myNumber7.argmax()}')"
      ],
      "metadata": {
        "colab": {
          "base_uri": "https://localhost:8080/"
        },
        "id": "G0WWqkhO4Y5-",
        "outputId": "4b5aec46-49bc-4197-c17f-005aae035611"
      },
      "execution_count": 37,
      "outputs": [
        {
          "output_type": "stream",
          "name": "stdout",
          "text": [
            "1/1 [==============================] - 0s 18ms/step\n",
            "The Predicted Number is : 7\n"
          ]
        }
      ]
    },
    {
      "cell_type": "code",
      "source": [],
      "metadata": {
        "id": "e_39P3p84gMl"
      },
      "execution_count": null,
      "outputs": []
    }
  ],
  "metadata": {
    "kernelspec": {
      "display_name": "Python 3",
      "name": "python3"
    },
    "language_info": {
      "codemirror_mode": {
        "name": "ipython",
        "version": 3
      },
      "file_extension": ".py",
      "mimetype": "text/x-python",
      "name": "python",
      "nbconvert_exporter": "python",
      "pygments_lexer": "ipython3",
      "version": "3.11.6"
    },
    "colab": {
      "provenance": [],
      "gpuType": "T4"
    },
    "accelerator": "GPU"
  },
  "nbformat": 4,
  "nbformat_minor": 0
}