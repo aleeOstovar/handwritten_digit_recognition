{
 "cells": [
  {
   "cell_type": "markdown",
   "id": "9ab2b253-a0e3-4764-890f-b750f764ad56",
   "metadata": {},
   "source": [
    "<h2>- ali ostovar -\n",
    "    <h4>#StdNum: 40020994\n",
    "    <h5>#Ex4-machine learning: logistic regression ------------------- #spring 2022"
   ]
  },
  {
   "cell_type": "markdown",
   "id": "e326d1a6-e19f-403e-85d2-db922de1d428",
   "metadata": {},
   "source": [
    "<h4><b>step 0 :</b></h4> \n",
    "    <p>importing libraries based on what we need to solve the problem"
   ]
  },
  {
   "cell_type": "code",
   "execution_count": 8,
   "id": "26469fed-453a-45a2-a60f-18c7a87a9987",
   "metadata": {},
   "outputs": [],
   "source": [
    "import pandas as pd\n",
    "import numpy as np\n",
    "import matplotlib\n",
    "import matplotlib.pyplot as plt\n",
    "from sklearn.model_selection import train_test_split\n",
    "from sklearn.datasets import load_digits\n",
    "from sklearn.linear_model import LogisticRegression\n",
    "from sklearn.metrics import confusion_matrix\n",
    "import seaborn as sns\n",
    "from PIL import Image"
   ]
  },
  {
   "cell_type": "markdown",
   "id": "18c8d751-9031-461d-8aa8-e24d80a9e542",
   "metadata": {},
   "source": [
    "<h4><b>step 1 :</b></h4> \n",
    "    <p>loading DataSet and showing dataset"
   ]
  },
  {
   "cell_type": "code",
   "execution_count": 9,
   "id": "838586bc-68a4-4421-b70f-d51d12dee6a1",
   "metadata": {},
   "outputs": [
    {
     "data": {
      "text/plain": [
       "{'data': array([[ 0.,  0.,  5., ...,  0.,  0.,  0.],\n",
       "        [ 0.,  0.,  0., ..., 10.,  0.,  0.],\n",
       "        [ 0.,  0.,  0., ..., 16.,  9.,  0.],\n",
       "        ...,\n",
       "        [ 0.,  0.,  1., ...,  6.,  0.,  0.],\n",
       "        [ 0.,  0.,  2., ..., 12.,  0.,  0.],\n",
       "        [ 0.,  0., 10., ..., 12.,  1.,  0.]]),\n",
       " 'target': array([0, 1, 2, ..., 8, 9, 8]),\n",
       " 'frame': None,\n",
       " 'feature_names': ['pixel_0_0',\n",
       "  'pixel_0_1',\n",
       "  'pixel_0_2',\n",
       "  'pixel_0_3',\n",
       "  'pixel_0_4',\n",
       "  'pixel_0_5',\n",
       "  'pixel_0_6',\n",
       "  'pixel_0_7',\n",
       "  'pixel_1_0',\n",
       "  'pixel_1_1',\n",
       "  'pixel_1_2',\n",
       "  'pixel_1_3',\n",
       "  'pixel_1_4',\n",
       "  'pixel_1_5',\n",
       "  'pixel_1_6',\n",
       "  'pixel_1_7',\n",
       "  'pixel_2_0',\n",
       "  'pixel_2_1',\n",
       "  'pixel_2_2',\n",
       "  'pixel_2_3',\n",
       "  'pixel_2_4',\n",
       "  'pixel_2_5',\n",
       "  'pixel_2_6',\n",
       "  'pixel_2_7',\n",
       "  'pixel_3_0',\n",
       "  'pixel_3_1',\n",
       "  'pixel_3_2',\n",
       "  'pixel_3_3',\n",
       "  'pixel_3_4',\n",
       "  'pixel_3_5',\n",
       "  'pixel_3_6',\n",
       "  'pixel_3_7',\n",
       "  'pixel_4_0',\n",
       "  'pixel_4_1',\n",
       "  'pixel_4_2',\n",
       "  'pixel_4_3',\n",
       "  'pixel_4_4',\n",
       "  'pixel_4_5',\n",
       "  'pixel_4_6',\n",
       "  'pixel_4_7',\n",
       "  'pixel_5_0',\n",
       "  'pixel_5_1',\n",
       "  'pixel_5_2',\n",
       "  'pixel_5_3',\n",
       "  'pixel_5_4',\n",
       "  'pixel_5_5',\n",
       "  'pixel_5_6',\n",
       "  'pixel_5_7',\n",
       "  'pixel_6_0',\n",
       "  'pixel_6_1',\n",
       "  'pixel_6_2',\n",
       "  'pixel_6_3',\n",
       "  'pixel_6_4',\n",
       "  'pixel_6_5',\n",
       "  'pixel_6_6',\n",
       "  'pixel_6_7',\n",
       "  'pixel_7_0',\n",
       "  'pixel_7_1',\n",
       "  'pixel_7_2',\n",
       "  'pixel_7_3',\n",
       "  'pixel_7_4',\n",
       "  'pixel_7_5',\n",
       "  'pixel_7_6',\n",
       "  'pixel_7_7'],\n",
       " 'target_names': array([0, 1, 2, 3, 4, 5, 6, 7, 8, 9]),\n",
       " 'images': array([[[ 0.,  0.,  5., ...,  1.,  0.,  0.],\n",
       "         [ 0.,  0., 13., ..., 15.,  5.,  0.],\n",
       "         [ 0.,  3., 15., ..., 11.,  8.,  0.],\n",
       "         ...,\n",
       "         [ 0.,  4., 11., ..., 12.,  7.,  0.],\n",
       "         [ 0.,  2., 14., ..., 12.,  0.,  0.],\n",
       "         [ 0.,  0.,  6., ...,  0.,  0.,  0.]],\n",
       " \n",
       "        [[ 0.,  0.,  0., ...,  5.,  0.,  0.],\n",
       "         [ 0.,  0.,  0., ...,  9.,  0.,  0.],\n",
       "         [ 0.,  0.,  3., ...,  6.,  0.,  0.],\n",
       "         ...,\n",
       "         [ 0.,  0.,  1., ...,  6.,  0.,  0.],\n",
       "         [ 0.,  0.,  1., ...,  6.,  0.,  0.],\n",
       "         [ 0.,  0.,  0., ..., 10.,  0.,  0.]],\n",
       " \n",
       "        [[ 0.,  0.,  0., ..., 12.,  0.,  0.],\n",
       "         [ 0.,  0.,  3., ..., 14.,  0.,  0.],\n",
       "         [ 0.,  0.,  8., ..., 16.,  0.,  0.],\n",
       "         ...,\n",
       "         [ 0.,  9., 16., ...,  0.,  0.,  0.],\n",
       "         [ 0.,  3., 13., ..., 11.,  5.,  0.],\n",
       "         [ 0.,  0.,  0., ..., 16.,  9.,  0.]],\n",
       " \n",
       "        ...,\n",
       " \n",
       "        [[ 0.,  0.,  1., ...,  1.,  0.,  0.],\n",
       "         [ 0.,  0., 13., ...,  2.,  1.,  0.],\n",
       "         [ 0.,  0., 16., ..., 16.,  5.,  0.],\n",
       "         ...,\n",
       "         [ 0.,  0., 16., ..., 15.,  0.,  0.],\n",
       "         [ 0.,  0., 15., ..., 16.,  0.,  0.],\n",
       "         [ 0.,  0.,  2., ...,  6.,  0.,  0.]],\n",
       " \n",
       "        [[ 0.,  0.,  2., ...,  0.,  0.,  0.],\n",
       "         [ 0.,  0., 14., ..., 15.,  1.,  0.],\n",
       "         [ 0.,  4., 16., ..., 16.,  7.,  0.],\n",
       "         ...,\n",
       "         [ 0.,  0.,  0., ..., 16.,  2.,  0.],\n",
       "         [ 0.,  0.,  4., ..., 16.,  2.,  0.],\n",
       "         [ 0.,  0.,  5., ..., 12.,  0.,  0.]],\n",
       " \n",
       "        [[ 0.,  0., 10., ...,  1.,  0.,  0.],\n",
       "         [ 0.,  2., 16., ...,  1.,  0.,  0.],\n",
       "         [ 0.,  0., 15., ..., 15.,  0.,  0.],\n",
       "         ...,\n",
       "         [ 0.,  4., 16., ..., 16.,  6.,  0.],\n",
       "         [ 0.,  8., 16., ..., 16.,  8.,  0.],\n",
       "         [ 0.,  1.,  8., ..., 12.,  1.,  0.]]]),\n",
       " 'DESCR': \".. _digits_dataset:\\n\\nOptical recognition of handwritten digits dataset\\n--------------------------------------------------\\n\\n**Data Set Characteristics:**\\n\\n    :Number of Instances: 1797\\n    :Number of Attributes: 64\\n    :Attribute Information: 8x8 image of integer pixels in the range 0..16.\\n    :Missing Attribute Values: None\\n    :Creator: E. Alpaydin (alpaydin '@' boun.edu.tr)\\n    :Date: July; 1998\\n\\nThis is a copy of the test set of the UCI ML hand-written digits datasets\\nhttps://archive.ics.uci.edu/ml/datasets/Optical+Recognition+of+Handwritten+Digits\\n\\nThe data set contains images of hand-written digits: 10 classes where\\neach class refers to a digit.\\n\\nPreprocessing programs made available by NIST were used to extract\\nnormalized bitmaps of handwritten digits from a preprinted form. From a\\ntotal of 43 people, 30 contributed to the training set and different 13\\nto the test set. 32x32 bitmaps are divided into nonoverlapping blocks of\\n4x4 and the number of on pixels are counted in each block. This generates\\nan input matrix of 8x8 where each element is an integer in the range\\n0..16. This reduces dimensionality and gives invariance to small\\ndistortions.\\n\\nFor info on NIST preprocessing routines, see M. D. Garris, J. L. Blue, G.\\nT. Candela, D. L. Dimmick, J. Geist, P. J. Grother, S. A. Janet, and C.\\nL. Wilson, NIST Form-Based Handprint Recognition System, NISTIR 5469,\\n1994.\\n\\n.. topic:: References\\n\\n  - C. Kaynak (1995) Methods of Combining Multiple Classifiers and Their\\n    Applications to Handwritten Digit Recognition, MSc Thesis, Institute of\\n    Graduate Studies in Science and Engineering, Bogazici University.\\n  - E. Alpaydin, C. Kaynak (1998) Cascading Classifiers, Kybernetika.\\n  - Ken Tang and Ponnuthurai N. Suganthan and Xi Yao and A. Kai Qin.\\n    Linear dimensionalityreduction using relevance weighted LDA. School of\\n    Electrical and Electronic Engineering Nanyang Technological University.\\n    2005.\\n  - Claudio Gentile. A New Approximate Maximal Margin Classification\\n    Algorithm. NIPS. 2000.\\n\"}"
      ]
     },
     "execution_count": 9,
     "metadata": {},
     "output_type": "execute_result"
    }
   ],
   "source": [
    "digits = load_digits()\n",
    "digits"
   ]
  },
  {
   "cell_type": "markdown",
   "id": "d4691654-058f-41bd-8222-9e984de089f0",
   "metadata": {},
   "source": [
    "<h4><b>step 2 :</b></h4> \n",
    "    <p>seprate datas and targets to X and Y"
   ]
  },
  {
   "cell_type": "code",
   "execution_count": 10,
   "id": "221ce16b-3b6c-4be5-94d6-20c4734a492f",
   "metadata": {},
   "outputs": [
    {
     "data": {
      "text/plain": [
       "(1797, 64)"
      ]
     },
     "execution_count": 10,
     "metadata": {},
     "output_type": "execute_result"
    }
   ],
   "source": [
    "X, y = digits['data'], digits['target']\n",
    "X.shape\n",
    "#(1797,64)"
   ]
  },
  {
   "cell_type": "code",
   "execution_count": 11,
   "id": "412741e1-6e16-4e48-b3bb-6b95a2b3f450",
   "metadata": {},
   "outputs": [
    {
     "data": {
      "text/plain": [
       "(1797, 64)"
      ]
     },
     "execution_count": 11,
     "metadata": {},
     "output_type": "execute_result"
    }
   ],
   "source": [
    "X.shape"
   ]
  },
  {
   "cell_type": "code",
   "execution_count": 12,
   "id": "7a52aa3e-13d6-4422-81e0-fb36592b3c57",
   "metadata": {},
   "outputs": [
    {
     "data": {
      "text/plain": [
       "<matplotlib.image.AxesImage at 0x2744f846580>"
      ]
     },
     "execution_count": 12,
     "metadata": {},
     "output_type": "execute_result"
    },
    {
     "data": {
      "image/png": "[encoded data removed]",
      "text/plain": [
       "<Figure size 432x288 with 1 Axes>"
      ]
     },
     "metadata": {
      "needs_background": "light"
     },
     "output_type": "display_data"
    }
   ],
   "source": [
    "test = X[9]\n",
    "test_image = test.reshape(8, 8) \n",
    "plt.imshow(test_image, cmap = matplotlib.cm.binary, interpolation=\"nearest\")"
   ]
  },
  {
   "cell_type": "markdown",
   "id": "f34f026a-f600-4978-8ada-b0f14f2ded81",
   "metadata": {},
   "source": [
    "<h4><b>step 3 :</b></h4> \n",
    "    <p>splitting train and test samples by 80/20 ratio"
   ]
  },
  {
   "cell_type": "code",
   "execution_count": 13,
   "id": "0698854b-bef8-4929-b10a-211834b08f40",
   "metadata": {},
   "outputs": [
    {
     "name": "stdout",
     "output_type": "stream",
     "text": [
      "X_train size: (1437, 64) \t y_train size: (1437,) \n",
      "X_test size: (360, 64) \t y_test size: (360,)\n"
     ]
    }
   ],
   "source": [
    "X_train, X_test, y_train, y_test = train_test_split(X, y, test_size=0.20, random_state = 1)\n",
    "print(f'X_train size: {X_train.shape} \\t y_train size: {y_train.shape} \\nX_test size: {X_test.shape} \\t y_test size: {y_test.shape}')\n",
    "\n",
    "#X_train size: (1437, 64) \t y_train size: (1437,) \n",
    "#X_test size: (360, 64) \t y_test size: (360,)"
   ]
  },
  {
   "cell_type": "markdown",
   "id": "6a123858-366e-47a5-9541-8da0a0fa6379",
   "metadata": {},
   "source": [
    "<h4><b>step 4 :</b></h4> \n",
    "    <p>setting up our regression model and fit model with LogisticRegression"
   ]
  },
  {
   "cell_type": "code",
   "execution_count": 14,
   "id": "a0fc450c-a3a2-4421-a130-639ad48fb269",
   "metadata": {},
   "outputs": [
    {
     "data": {
      "text/plain": [
       "LogisticRegression(C=0.001, random_state=0, solver='liblinear')"
      ]
     },
     "execution_count": 14,
     "metadata": {},
     "output_type": "execute_result"
    }
   ],
   "source": [
    "logisticRegression= LogisticRegression(solver='liblinear', C=0.001, multi_class='auto', random_state=0)\n",
    "logisticRegression.fit(X_train,y_train)"
   ]
  },
  {
   "cell_type": "markdown",
   "id": "5356b5a4-dc50-422b-bdb9-83a3c5c104ea",
   "metadata": {},
   "source": [
    "<h4><b>step 5 :</b></h4> \n",
    "    <p>showing accuracy of training and testing phase when C = 0.001"
   ]
  },
  {
   "cell_type": "code",
   "execution_count": 15,
   "id": "1abfa0b6-3c2e-4945-bc9d-c9c816a0014c",
   "metadata": {},
   "outputs": [
    {
     "name": "stdout",
     "output_type": "stream",
     "text": [
      "Accuracy of training set when (c = 0.001) : 0.965205288796103\n"
     ]
    }
   ],
   "source": [
    "print(f'Accuracy of training set when (c = 0.001) : {logisticRegression.score(X_train,y_train)}')\n",
    "#Accuracy of training set : 0.965205288796103"
   ]
  },
  {
   "cell_type": "code",
   "execution_count": 16,
   "id": "a9f0a4de-a506-4d37-b442-2441e190c917",
   "metadata": {},
   "outputs": [
    {
     "name": "stdout",
     "output_type": "stream",
     "text": [
      "Accuracy of testing set : 0.9527777777777777\n"
     ]
    }
   ],
   "source": [
    "y_pred = logisticRegression.predict(X_test)\n",
    "print(f'Accuracy of testing set : {logisticRegression.score(X_test,y_test)}')\n",
    "#Accuracy of testing set : 1.0"
   ]
  },
  {
   "cell_type": "markdown",
   "id": "52c5c618-bd76-436f-9f4b-2e0b66d360ff",
   "metadata": {},
   "source": [
    "<h4><b>step 6 :</b></h4> \n",
    "    <p>setting up model with c = 0.3 then refit the model and predic it. after that we calculate accuracy in train and test"
   ]
  },
  {
   "cell_type": "code",
   "execution_count": 17,
   "id": "bc01094a-a2e3-422a-b1bc-7194cae2f164",
   "metadata": {},
   "outputs": [
    {
     "name": "stdout",
     "output_type": "stream",
     "text": [
      "Accuracy of training set when (c = 0.3) : 0.9937369519832986\n",
      "Accuracy of testing set when (c = 0.3) : 0.9722222222222222\n"
     ]
    }
   ],
   "source": [
    "#c=0.3\n",
    "logisticRegression= LogisticRegression(solver='liblinear', C=0.3, multi_class='auto', random_state=0)\n",
    "logisticRegression.fit(X_train,y_train)\n",
    "y_pred = logisticRegression.predict(X_test)\n",
    "\n",
    "print(f'Accuracy of training set when (c = 0.3) : {logisticRegression.score(X_train,y_train)}')\n",
    "print(f'Accuracy of testing set when (c = 0.3) : {logisticRegression.score(X_test,y_test)}')\n",
    "#Accuracy of training set when (c = 0.3) : 0.9937369519832986\n",
    "#Accuracy of testing set when (c = 0.3) : 1.0"
   ]
  },
  {
   "cell_type": "markdown",
   "id": "1afbda2c-ee2f-4e40-8ea9-7730f542bc57",
   "metadata": {},
   "source": [
    "<h4><b>step 7 :</b></h4> \n",
    "    <p>plotting confusion matrix"
   ]
  },
  {
   "cell_type": "code",
   "execution_count": 18,
   "id": "a4fc9681-30f4-42f5-90e2-34d5c47c48a0",
   "metadata": {},
   "outputs": [
    {
     "data": {
      "text/plain": [
       "<AxesSubplot:>"
      ]
     },
     "execution_count": 18,
     "metadata": {},
     "output_type": "execute_result"
    },
    {
     "data": {
      "image/png": "[encoded data removed]",
      "text/plain": [
       "<Figure size 432x288 with 2 Axes>"
      ]
     },
     "metadata": {
      "needs_background": "light"
     },
     "output_type": "display_data"
    }
   ],
   "source": [
    "cm = confusion_matrix(y_test, y_pred)\n",
    "sns.heatmap(cm, annot=True)"
   ]
  },
  {
   "cell_type": "markdown",
   "id": "4fedcf36-a7ec-48c0-ade8-fd160556d387",
   "metadata": {},
   "source": [
    "<h4><b>step 8 :</b></h4> \n",
    "    <p>in this part we wanna predict a given handwriten number with our model. for this job first we have to convert photo to grayscale <br>then reshape it to 8 * 8 pixel now we're ready to predict"
   ]
  },
  {
   "cell_type": "code",
   "execution_count": 21,
   "id": "f68aa9eb-166f-49fe-8029-8834a2100c2c",
   "metadata": {},
   "outputs": [
    {
     "data": {
      "text/plain": [
       "array([[  0,   0,   0,   0,   0,   0,   0,   0],\n",
       "       [  0,   1, 254, 255, 255, 254,   1,   0],\n",
       "       [  1,   0, 255,   0,   0, 255,   0,   1],\n",
       "       [  0, 255,   0,   1,   1,   0, 255,   0],\n",
       "       [  1, 255,   0,   0,   0,   0, 255,   1],\n",
       "       [  0, 255,   0,   1,   1,   0, 255,   0],\n",
       "       [  0,   1, 255, 254, 254, 255,   1,   0],\n",
       "       [  0,   0,   0,   1,   1,   0,   0,   0]], dtype=uint8)"
      ]
     },
     "execution_count": 21,
     "metadata": {},
     "output_type": "execute_result"
    }
   ],
   "source": [
    "testImg = Image.open(\"IMG_54577.PNG\").convert('L')\n",
    "imgArray = np.array(testImg)\n",
    "imgArray"
   ]
  },
  {
   "cell_type": "code",
   "execution_count": 20,
   "id": "3e6b1011-de47-4163-ac1a-eb200d5226d5",
   "metadata": {},
   "outputs": [
    {
     "name": "stdout",
     "output_type": "stream",
     "text": [
      "The Predicted Number is : [0]\n"
     ]
    }
   ],
   "source": [
    "myNumber0=logisticRegression.predict(imgArray.reshape(1,-1))\n",
    "print(f'The Predicted Number is : {myNumber0}')\n",
    "#The Predicted Number is : [0]"
   ]
  }
 ],
 "metadata": {
  "kernelspec": {
   "display_name": "Python 3.9.12 64-bit",
   "language": "python",
   "name": "python3"
  },
  "language_info": {
   "codemirror_mode": {
    "name": "ipython",
    "version": 3
   },
   "file_extension": ".py",
   "mimetype": "text/x-python",
   "name": "python",
   "nbconvert_exporter": "python",
   "pygments_lexer": "ipython3",
   "version": "3.9.12"
  },
  "vscode": {
   "interpreter": {
    "hash": "cf92aa13fedf815d5c8dd192b8d835913fde3e8bc926b2a0ad6cc74ef2ba3ca2"
   }
  }
 },
 "nbformat": 4,
 "nbformat_minor": 5
}
